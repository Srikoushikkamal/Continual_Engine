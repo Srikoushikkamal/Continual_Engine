{
  "nbformat": 4,
  "nbformat_minor": 0,
  "metadata": {
    "colab": {
      "name": "IMGClassifier.ipynb",
      "provenance": [],
      "collapsed_sections": [
        "SWSWX-XpJlOe",
        "IbH97LCwhNDQ",
        "YD3C0Gq_hSWM",
        "rbyA6wixmaSX",
        "s3IrJ8KZrUJt",
        "ybnUc6esv_7x",
        "sIUJ6TuU0fZ8",
        "8ic-kK_73JM3",
        "SRGrnzKD7A5P"
      ]
    },
    "kernelspec": {
      "display_name": "Python 3",
      "name": "python3"
    },
    "language_info": {
      "name": "python"
    }
  },
  "cells": [
    {
      "cell_type": "code",
      "metadata": {
        "colab": {
          "base_uri": "https://localhost:8080/"
        },
        "id": "f1BxOwzyWcyw",
        "outputId": "2ab06cfe-9c68-4e18-decf-6919c3eef523"
      },
      "source": [
        "from google.colab import drive\n",
        "drive.mount('/gdrive')"
      ],
      "execution_count": null,
      "outputs": [
        {
          "output_type": "stream",
          "text": [
            "Mounted at /gdrive\n"
          ],
          "name": "stdout"
        }
      ]
    },
    {
      "cell_type": "code",
      "metadata": {
        "id": "F_-3J3N8WczU"
      },
      "source": [
        "import pandas as pd\n",
        "import requests"
      ],
      "execution_count": null,
      "outputs": []
    },
    {
      "cell_type": "markdown",
      "metadata": {
        "id": "8qm89O2Vdw67"
      },
      "source": [
        "##1.Import & Cleaning Data from CSV"
      ]
    },
    {
      "cell_type": "code",
      "metadata": {
        "colab": {
          "base_uri": "https://localhost:8080/"
        },
        "id": "K16vcQnBXXki",
        "outputId": "8a7cdb4f-0d15-47fa-823e-44219c6ae8b3"
      },
      "source": [
        "data=pd.read_csv(\"/gdrive/MyDrive/vis10cat - vis10cat1 (1).csv\")\n",
        "print(data.head())"
      ],
      "execution_count": null,
      "outputs": [
        {
          "output_type": "stream",
          "text": [
            "       Graph  ... Unnamed: 5\n",
            "0  AreaGraph  ...        NaN\n",
            "1  AreaGraph  ...        NaN\n",
            "2  AreaGraph  ...        NaN\n",
            "3  AreaGraph  ...        NaN\n",
            "4  AreaGraph  ...        NaN\n",
            "\n",
            "[5 rows x 6 columns]\n"
          ],
          "name": "stdout"
        }
      ]
    },
    {
      "cell_type": "code",
      "metadata": {
        "id": "62lgGNp-eXCB"
      },
      "source": [
        "area = data.loc[data['Graph'].str.contains(\"AreaGraph\", case=False)]\n"
      ],
      "execution_count": null,
      "outputs": []
    },
    {
      "cell_type": "code",
      "metadata": {
        "id": "WFFcgkwTfavK"
      },
      "source": [
        "bar = data.loc[data['Graph'].str.contains(\"BarGraph\", case=False)]"
      ],
      "execution_count": null,
      "outputs": []
    },
    {
      "cell_type": "code",
      "metadata": {
        "id": "bhcMFEUweUnw"
      },
      "source": [
        "line = data.loc[data['Graph'].str.contains(\"LineGraph\", case=False)]"
      ],
      "execution_count": null,
      "outputs": []
    },
    {
      "cell_type": "code",
      "metadata": {
        "id": "opcGG29Af4kU"
      },
      "source": [
        "map = data.loc[data['Graph'].str.contains(\"Map\", case=False)]"
      ],
      "execution_count": null,
      "outputs": []
    },
    {
      "cell_type": "code",
      "metadata": {
        "id": "mn4lHRydgAR1"
      },
      "source": [
        "pareto = data.loc[data['Graph'].str.contains(\"ParetoChart\", case=False)]"
      ],
      "execution_count": null,
      "outputs": []
    },
    {
      "cell_type": "code",
      "metadata": {
        "id": "qZ5jVBvKgKNd"
      },
      "source": [
        "pie = data.loc[data['Graph'].str.contains(\"PieChart\", case=False)]"
      ],
      "execution_count": null,
      "outputs": []
    },
    {
      "cell_type": "code",
      "metadata": {
        "id": "dryVXNe0gZqU"
      },
      "source": [
        "radar = data.loc[data['Graph'].str.contains(\"RadarPlot\", case=False)]"
      ],
      "execution_count": null,
      "outputs": []
    },
    {
      "cell_type": "code",
      "metadata": {
        "id": "fDy_fGj-gfVa"
      },
      "source": [
        "scatt = data.loc[data['Graph'].str.contains(\"ScatterGraph\", case=False)]"
      ],
      "execution_count": null,
      "outputs": []
    },
    {
      "cell_type": "code",
      "metadata": {
        "id": "wR4wWRv-grSC"
      },
      "source": [
        "table = data.loc[data['Graph'].str.contains(\"Table\", case=False)]"
      ],
      "execution_count": null,
      "outputs": []
    },
    {
      "cell_type": "code",
      "metadata": {
        "id": "SJ6I6zFYg4A3"
      },
      "source": [
        "venn = data.loc[data['Graph'].str.contains(\"VennDiagram\", case=False)]"
      ],
      "execution_count": null,
      "outputs": []
    },
    {
      "cell_type": "markdown",
      "metadata": {
        "id": "2-VzXmlkeeLF"
      },
      "source": [
        "#Delete Duplicate Rows"
      ]
    },
    {
      "cell_type": "code",
      "metadata": {
        "id": "caVlwvI7mEds"
      },
      "source": [
        "from google.colab import files as FILE\n",
        "import os\n",
        "import os.path\n",
        "import cv2\n",
        "import matplotlib.pyplot as plt"
      ],
      "execution_count": null,
      "outputs": []
    },
    {
      "cell_type": "code",
      "metadata": {
        "id": "OOfI3FVgmoP4"
      },
      "source": [
        "data.drop_duplicates(subset =\"url\",\n",
        "                     keep = False, inplace = True)"
      ],
      "execution_count": null,
      "outputs": []
    },
    {
      "cell_type": "code",
      "metadata": {
        "id": "OA39bsGHFJGY"
      },
      "source": [
        "Count=[area,bar,line,map,pareto,pie,radar,scatt,table,venn]"
      ],
      "execution_count": null,
      "outputs": []
    },
    {
      "cell_type": "markdown",
      "metadata": {
        "id": "RuANMiLueh05"
      },
      "source": [
        "#Downloading Image to ceate Dataset (Google Drive)"
      ]
    },
    {
      "cell_type": "markdown",
      "metadata": {
        "id": "SWSWX-XpJlOe"
      },
      "source": [
        "##AreaGraph"
      ]
    },
    {
      "cell_type": "code",
      "metadata": {
        "id": "Ef4QwePUnKIj"
      },
      "source": [
        "y=0\n",
        "for i in area['url']:\n",
        "  file_url=i\n",
        "  y+=1\n",
        "  try:\n",
        "    print(y)\n",
        "    r = requests.get(file_url, stream = True)\n",
        "    with open(\"/gdrive/MyDrive/Graphs/AreaGraph/AreaGraph\"+str(y)+\".jpg\", \"wb\") as file:\n",
        "      for block in r.iter_content(chunk_size = 1024):\n",
        "        if block:\n",
        "          file.write(block)\n",
        "  except:\n",
        "    flag=0"
      ],
      "execution_count": null,
      "outputs": []
    },
    {
      "cell_type": "markdown",
      "metadata": {
        "id": "IbH97LCwhNDQ"
      },
      "source": [
        "##BAR"
      ]
    },
    {
      "cell_type": "code",
      "metadata": {
        "colab": {
          "base_uri": "https://localhost:8080/"
        },
        "id": "sXWIN2H-PpUx",
        "outputId": "a14e9796-64af-448f-c1a7-7c52324c9987"
      },
      "source": [
        "y=0\n",
        "for i in bar['url']:\n",
        "  file_url=i\n",
        "  y+=1\n",
        "  try:\n",
        "    r = requests.get(file_url, stream = True)\n",
        "    with open(\"/gdrive/MyDrive/Graphs/BarGraph/BarGraph\"+str(y)+\".jpg\", \"wb\") as file:\n",
        "      for block in r.iter_content(chunk_size = 1024):\n",
        "        if block:\n",
        "          file.write(block)\n",
        "  except:\n",
        "    flag=0\n",
        "print(y)"
      ],
      "execution_count": null,
      "outputs": [
        {
          "output_type": "stream",
          "text": [
            "331\n"
          ],
          "name": "stdout"
        }
      ]
    },
    {
      "cell_type": "markdown",
      "metadata": {
        "id": "YD3C0Gq_hSWM"
      },
      "source": [
        "##line"
      ]
    },
    {
      "cell_type": "code",
      "metadata": {
        "colab": {
          "background_save": true
        },
        "id": "DNs7LzgQRMrc",
        "outputId": "b58f6555-c657-436b-8702-83da1bc1d03e"
      },
      "source": [
        "y=0\n",
        "for i in line['url']:\n",
        "  file_url=i\n",
        "  y+=1\n",
        "  try:\n",
        "    r = requests.get(file_url, stream = True)\n",
        "    with open(\"/gdrive/MyDrive/Graphs/LineGraph/LineGraph\"+str(y)+\".jpg\", \"wb\") as file:\n",
        "      for block in r.iter_content(chunk_size = 1024):\n",
        "        if block:\n",
        "          file.write(block)\n",
        "  except:\n",
        "    flag=0\n",
        "print(y)"
      ],
      "execution_count": null,
      "outputs": [
        {
          "output_type": "stream",
          "text": [
            "249\n"
          ],
          "name": "stdout"
        }
      ]
    },
    {
      "cell_type": "markdown",
      "metadata": {
        "id": "rbyA6wixmaSX"
      },
      "source": [
        "##Map"
      ]
    },
    {
      "cell_type": "code",
      "metadata": {
        "colab": {
          "base_uri": "https://localhost:8080/"
        },
        "id": "gKzeDlGhXOGE",
        "outputId": "74f0d601-4677-4f49-9724-8172c1524b1c"
      },
      "source": [
        "y=0\n",
        "for i in map['url']:\n",
        "  file_url=i\n",
        "  y+=1\n",
        "  try:\n",
        "    r = requests.get(file_url, stream = True)\n",
        "    with open(\"/gdrive/MyDrive/Graphs/Map/Map\"+str(y)+\".jpg\", \"wb\") as file:\n",
        "      for block in r.iter_content(chunk_size = 1024):\n",
        "        if block:\n",
        "          file.write(block)\n",
        "  except:\n",
        "    flag=0\n",
        "print(y)"
      ],
      "execution_count": null,
      "outputs": [
        {
          "output_type": "stream",
          "text": [
            "297\n"
          ],
          "name": "stdout"
        }
      ]
    },
    {
      "cell_type": "markdown",
      "metadata": {
        "id": "s3IrJ8KZrUJt"
      },
      "source": [
        "##Pareto"
      ]
    },
    {
      "cell_type": "code",
      "metadata": {
        "id": "C_9RQr28djxx",
        "colab": {
          "base_uri": "https://localhost:8080/"
        },
        "outputId": "6803075b-ccf3-4449-c24e-2e69c68ca502"
      },
      "source": [
        "y=0\n",
        "for i in pareto['url']:\n",
        "  file_url=i\n",
        "  y+=1\n",
        "  try:\n",
        "    r = requests.get(file_url, stream = True)\n",
        "    with open(\"/gdrive/MyDrive/Graphs/ParetoGraph/ParetoGraph\"+str(y)+\".jpg\", \"wb\") as file:\n",
        "      for block in r.iter_content(chunk_size = 1024):\n",
        "        if block:\n",
        "          file.write(block)\n",
        "  except:\n",
        "    flag=0\n",
        "print(y)"
      ],
      "execution_count": null,
      "outputs": [
        {
          "output_type": "stream",
          "text": [
            "196\n"
          ],
          "name": "stdout"
        }
      ]
    },
    {
      "cell_type": "markdown",
      "metadata": {
        "id": "ybnUc6esv_7x"
      },
      "source": [
        "##Pie"
      ]
    },
    {
      "cell_type": "code",
      "metadata": {
        "colab": {
          "base_uri": "https://localhost:8080/"
        },
        "id": "KGzb0Ws0rGRh",
        "outputId": "fd268b53-3311-4b32-cf63-d02b5d799a59"
      },
      "source": [
        "y=0\n",
        "for i in pie['url']:\n",
        "  file_url=i\n",
        "  y+=1\n",
        "  try:\n",
        "    r = requests.get(file_url, stream = True)\n",
        "    with open(\"/gdrive/MyDrive/Graphs/PieGraph/PieGraph\"+str(y)+\".jpg\", \"wb\") as file:\n",
        "      for block in r.iter_content(chunk_size = 1024):\n",
        "        if block:\n",
        "          file.write(block)\n",
        "  except:\n",
        "    flag=0\n",
        "print(y)"
      ],
      "execution_count": null,
      "outputs": [
        {
          "output_type": "stream",
          "text": [
            "196\n"
          ],
          "name": "stdout"
        }
      ]
    },
    {
      "cell_type": "markdown",
      "metadata": {
        "id": "sIUJ6TuU0fZ8"
      },
      "source": [
        "##Radar"
      ]
    },
    {
      "cell_type": "code",
      "metadata": {
        "colab": {
          "base_uri": "https://localhost:8080/"
        },
        "id": "ivv9So5JwLhF",
        "outputId": "d03b2842-eedf-40fe-dfb0-e6c0b6b89f8e"
      },
      "source": [
        "y=0\n",
        "for i in radar['url']:\n",
        "  file_url=i\n",
        "  y+=1\n",
        "  try:\n",
        "    r = requests.get(file_url, stream = True)\n",
        "    with open(\"/gdrive/MyDrive/Graphs/RadarPlot/RadarPlot\"+str(y)+\".jpg\", \"wb\") as file:\n",
        "      for block in r.iter_content(chunk_size = 1024):\n",
        "        if block:\n",
        "          file.write(block)\n",
        "  except:\n",
        "    flag=0\n",
        "print(y)"
      ],
      "execution_count": null,
      "outputs": [
        {
          "output_type": "stream",
          "text": [
            "157\n"
          ],
          "name": "stdout"
        }
      ]
    },
    {
      "cell_type": "markdown",
      "metadata": {
        "id": "8ic-kK_73JM3"
      },
      "source": [
        "##Scatter"
      ]
    },
    {
      "cell_type": "code",
      "metadata": {
        "colab": {
          "base_uri": "https://localhost:8080/"
        },
        "id": "tAq0IuJ80vbU",
        "outputId": "757ed33d-7845-4bcf-bd6b-e0117af69fa8"
      },
      "source": [
        "y=0\n",
        "for i in scatt['url']:\n",
        "  file_url=i\n",
        "  y+=1\n",
        "  try:\n",
        "    r = requests.get(file_url, stream = True)\n",
        "    with open(\"/gdrive/MyDrive/Graphs/ScatterGraph/ScatterGraph\"+str(y)+\".jpg\", \"wb\") as file:\n",
        "      for block in r.iter_content(chunk_size = 1024):\n",
        "        if block:\n",
        "          file.write(block)\n",
        "  except:\n",
        "    flag=0\n",
        "print(y)"
      ],
      "execution_count": null,
      "outputs": [
        {
          "output_type": "stream",
          "text": [
            "266\n"
          ],
          "name": "stdout"
        }
      ]
    },
    {
      "cell_type": "markdown",
      "metadata": {
        "id": "SRGrnzKD7A5P"
      },
      "source": [
        "##Table"
      ]
    },
    {
      "cell_type": "code",
      "metadata": {
        "colab": {
          "base_uri": "https://localhost:8080/"
        },
        "id": "LdSvFrAf3NzA",
        "outputId": "36689a08-f13e-4b96-8f00-26357bc128e6"
      },
      "source": [
        "y=0\n",
        "for i in table['url']:\n",
        "  file_url=i\n",
        "  y+=1\n",
        "  try:\n",
        "    r = requests.get(file_url, stream = True)\n",
        "    with open(\"/gdrive/MyDrive/Graphs/Table/Table\"+str(y)+\".jpg\", \"wb\") as file:\n",
        "      for block in r.iter_content(chunk_size = 1024):\n",
        "        if block:\n",
        "          file.write(block)\n",
        "  except:\n",
        "    flag=0\n",
        "print(y)"
      ],
      "execution_count": null,
      "outputs": [
        {
          "output_type": "stream",
          "text": [
            "278\n"
          ],
          "name": "stdout"
        }
      ]
    },
    {
      "cell_type": "code",
      "metadata": {
        "colab": {
          "base_uri": "https://localhost:8080/"
        },
        "id": "9gUdPoHC7DjQ",
        "outputId": "b5d28127-119c-472c-a424-9b4f842479b3"
      },
      "source": [
        "y=0\n",
        "for i in venn['url']:\n",
        "  file_url=i\n",
        "  y+=1\n",
        "  try:\n",
        "    r = requests.get(file_url, stream = True)\n",
        "    with open(\"/gdrive/MyDrive/Graphs/VennDiagram/VennDiagram\"+str(y)+\".jpg\", \"wb\") as file:\n",
        "      for block in r.iter_content(chunk_size = 1024):\n",
        "        if block:\n",
        "          file.write(block)\n",
        "  except:\n",
        "    flag=0\n",
        "print(y)"
      ],
      "execution_count": null,
      "outputs": [
        {
          "output_type": "stream",
          "text": [
            "134\n"
          ],
          "name": "stdout"
        }
      ]
    },
    {
      "cell_type": "markdown",
      "metadata": {
        "id": "wqgPfpcgBfzs"
      },
      "source": [
        "##imghdr to check if image is curropted"
      ]
    },
    {
      "cell_type": "code",
      "metadata": {
        "colab": {
          "base_uri": "https://localhost:8080/"
        },
        "id": "2wXRW9GnjmW8",
        "outputId": "170b4efb-8d68-4588-e839-bb6e02ddcf9b"
      },
      "source": [
        "import imghdr\n",
        "x=imghdr.what('/gdrive/MyDrive/Graphs/Map/Map296.jpg')\n",
        "print(x)"
      ],
      "execution_count": null,
      "outputs": [
        {
          "output_type": "stream",
          "text": [
            "jpeg\n"
          ],
          "name": "stdout"
        }
      ]
    },
    {
      "cell_type": "markdown",
      "metadata": {
        "id": "53BuApgIBaLU"
      },
      "source": [
        "##Change Ext. if Error"
      ]
    },
    {
      "cell_type": "code",
      "metadata": {
        "id": "-c_p73mKkpZw"
      },
      "source": [
        "y=500\n",
        "for filename in os.listdir('/gdrive/MyDrive/Graphs/VennDiagram'):\n",
        "    if filename.endswith(\"png\"):\n",
        "      x=imghdr.what('/gdrive/MyDrive/Graphs/VennDiagram/'+filename)\n",
        "      if(x=None):\n",
        "        print(filename)\n",
        "        #os.rename('/gdrive/MyDrive/Graphs/VennDiagram/'+filename,'/gdrive/MyDrive/Graphs/VennDiagram/'+'venn'+str(y)+'.png')\n",
        "        #os.remove('/gdrive/MyDrive/Graphs/VennDiagram/'+filename)\n",
        "        y+=1"
      ],
      "execution_count": null,
      "outputs": []
    },
    {
      "cell_type": "markdown",
      "metadata": {
        "id": "MVAJ-jcjfFHo"
      },
      "source": [
        "Images After Cleaning Dataset"
      ]
    },
    {
      "cell_type": "markdown",
      "metadata": {
        "id": "3SaD7AWFCGt1"
      },
      "source": [
        "#49 - Area\n",
        "#110 - Bar\n",
        "#80 - line\n",
        "#112 - Map\n",
        "#77 - Pareto Graph\n",
        "#58 - Pie\n",
        "#54 - Radar\n",
        "#94 - Scatter\n",
        "#100 - Table\n",
        "#54 - Venn"
      ]
    },
    {
      "cell_type": "markdown",
      "metadata": {
        "id": "bVa2wcIqGJlR"
      },
      "source": [
        "###Model"
      ]
    },
    {
      "cell_type": "code",
      "metadata": {
        "id": "xJd9LKSXBrtK"
      },
      "source": [
        "import tensorflow.keras\n",
        "from PIL import Image, ImageOps\n",
        "import numpy as np"
      ],
      "execution_count": null,
      "outputs": []
    },
    {
      "cell_type": "code",
      "metadata": {
        "id": "U3jQodYVqRet"
      },
      "source": [
        "from keras.preprocessing.image import ImageDataGenerator\n",
        "from keras.models import Sequential\n",
        "from keras.layers import Conv2D, MaxPooling2D\n",
        "from keras.layers import Activation, Dropout, Flatten, Dense\n",
        "from keras import backend as K\n",
        "import keras\n",
        "from keras.models import load_model\n",
        "  \n",
        "img_width, img_height = 224, 224"
      ],
      "execution_count": null,
      "outputs": []
    },
    {
      "cell_type": "code",
      "metadata": {
        "id": "uozZ7DccqTcx"
      },
      "source": [
        "train_data_dir = '/gdrive/MyDrive/CE/Train'\n",
        "validation_data_dir = '/gdrive/MyDrive/CE/Test'\n",
        "nb_train_samples =400 \n",
        "nb_validation_samples = 100\n",
        "epochs = 10\n",
        "batch_size = 16"
      ],
      "execution_count": null,
      "outputs": []
    },
    {
      "cell_type": "code",
      "metadata": {
        "id": "_hnoUFRjq7JR"
      },
      "source": [
        "if K.image_data_format() == 'channels_first':\n",
        "    input_shape = (3, img_width, img_height)\n",
        "else:\n",
        "    input_shape = (img_width, img_height, 3)"
      ],
      "execution_count": null,
      "outputs": []
    },
    {
      "cell_type": "code",
      "metadata": {
        "id": "bRqpN4aIq9pi"
      },
      "source": [
        "model = Sequential()\n",
        "model.add(Conv2D(32, (2, 2), input_shape=input_shape))\n",
        "model.add(Activation('relu'))\n",
        "model.add(MaxPooling2D(pool_size=(2, 2)))\n",
        "\n",
        "model.add(Conv2D(32, (2, 2)))\n",
        "model.add(Activation('relu'))\n",
        "model.add(MaxPooling2D(pool_size=(2, 2)))\n",
        "  \n",
        "model.add(Conv2D(64, (2, 2)))\n",
        "model.add(Activation('relu'))\n",
        "model.add(MaxPooling2D(pool_size=(2, 2)))\n",
        "  \n",
        "model.add(Flatten())\n",
        "model.add(Dense(64))\n",
        "model.add(Activation('relu'))\n",
        "model.add(Dropout(0.5))\n",
        "model.add(Dense(1))\n",
        "model.add(Activation('sigmoid'))"
      ],
      "execution_count": null,
      "outputs": []
    },
    {
      "cell_type": "code",
      "metadata": {
        "id": "vlq6wGiSun-k"
      },
      "source": [
        "model.compile(loss ='categorical_crossentropy',\n",
        "                     optimizer ='SGD',\n",
        "                   metrics =['accuracy'])"
      ],
      "execution_count": null,
      "outputs": []
    },
    {
      "cell_type": "code",
      "metadata": {
        "colab": {
          "base_uri": "https://localhost:8080/"
        },
        "id": "0u776QOrupMs",
        "outputId": "a048b4e4-ad7b-494d-852e-bfb8f93ae669"
      },
      "source": [
        "train_datagen = ImageDataGenerator(\n",
        "                rescale = 1. / 255,\n",
        "                 shear_range = 0.2,\n",
        "                  zoom_range = 0.2,\n",
        "            horizontal_flip = True)\n",
        "  \n",
        "test_datagen = ImageDataGenerator(rescale = 1. / 255)\n",
        "  \n",
        "train_generator = train_datagen.flow_from_directory(train_data_dir,\n",
        "                              target_size =(img_width, img_height),\n",
        "                     batch_size = batch_size, class_mode ='categorical')\n",
        "  \n",
        "validation_generator = test_datagen.flow_from_directory(\n",
        "                                    validation_data_dir,\n",
        "                   target_size =(img_width, img_height),\n",
        "          batch_size = batch_size, class_mode ='categorical')"
      ],
      "execution_count": null,
      "outputs": [
        {
          "output_type": "stream",
          "text": [
            "Found 780 images belonging to 10 classes.\n",
            "Found 433 images belonging to 10 classes.\n"
          ],
          "name": "stdout"
        }
      ]
    },
    {
      "cell_type": "code",
      "metadata": {
        "id": "GjIhLy25uynQ"
      },
      "source": [
        "model.fit_generator(train_generator,\n",
        "    steps_per_epoch = nb_train_samples // batch_size,\n",
        "    epochs = epochs, validation_data = validation_generator,\n",
        "    validation_steps = nb_validation_samples // batch_size)\n",
        "\n",
        "model.save('/gdrive/MyDrive/Model/keras_model.h5')"
      ],
      "execution_count": null,
      "outputs": []
    },
    {
      "cell_type": "code",
      "metadata": {
        "id": "V99vYIgqQggq",
        "colab": {
          "base_uri": "https://localhost:8080/"
        },
        "outputId": "b7f2af31-7dd4-49fa-d37b-3098ca94079f"
      },
      "source": [
        "np.set_printoptions(suppress=True)\n",
        "model = tensorflow.keras.models.load_model('/gdrive/MyDrive/Model/keras_model.h5', compile= False)\n",
        "\n",
        "#model = keras.models.load_model('/gdrive/MyDrive/Model/model_saved.h5')\n",
        "\n",
        "data = np.ndarray(shape=(1, 224, 224, 3), dtype=np.float32)\n",
        "\n",
        "image = Image.open('/gdrive/MyDrive/Graphs/LineGraph/LineGraph145.jpg')\n",
        "#Give your image Loc. above\n",
        "size = (224, 224)\n",
        "image = ImageOps.fit(image, size, Image.ANTIALIAS)\n",
        "image_array = np.asarray(image)\n",
        "image.show()\n",
        "normalized_image_array = (image_array.astype(np.float32) / 127.0) - 1\n",
        "\n",
        "data[0] = normalized_image_array\n",
        "\n",
        "prediction = model.predict(data)\n",
        "\n",
        "labels=['AreaGraph','LineGraph','PieGraph','ParetoGraph','VennDiagram','BarChart','RadarPlot','Map','Table','ScatteGraph']\n",
        "\n",
        "x=str(prediction)\n",
        "x=x[2:len(x)-2]\n",
        "\n",
        "res=[]\n",
        "\n",
        "for i in x.split():\n",
        "  res.append(float(i))\n",
        "\n",
        "\n",
        "maxi=res.index(max(res))\n",
        "\n",
        "print(\"Accuracy of\",labels[maxi],\"-\",max(res))\n"
      ],
      "execution_count": null,
      "outputs": [
        {
          "output_type": "stream",
          "text": [
            "Accuracy of LineGraph - 0.7484283\n"
          ],
          "name": "stdout"
        }
      ]
    }
  ]
}
